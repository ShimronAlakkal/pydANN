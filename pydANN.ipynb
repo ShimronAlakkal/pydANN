{
 "cells": [
  {
   "cell_type": "markdown",
   "metadata": {},
   "source": [
    "## 1 - Packages\n",
    "\n",
    "These are some of the most important packages that you're going to need in order to use ***```pydANN```***\n",
    "\n",
    "- [numpy](www.numpy.org) (or numeric python) is the main package for scientific computing with Python.\n",
    "- [matplotlib](http://matplotlib.org) is a library to plot graphs -- which are optional -- in Python.\n",
    "\n",
    "- np.random.seed(x), where 'x' is a constant integer, is used to keep all the random function calls consistent as we're going to have some random events occuring."
   ]
  },
  {
   "cell_type": "code",
   "execution_count": 1,
   "metadata": {},
   "outputs": [],
   "source": [
    "import numpy as np\n",
    "import matplotlib.pyplot as plt"
   ]
  },
  {
   "cell_type": "code",
   "execution_count": null,
   "metadata": {},
   "outputs": [],
   "source": [
    "class ann:\n",
    "    \n",
    "    def __init__(self):\n",
    "        self.hidden_Layers = []\n",
    "        self.total_layers = []\n",
    "        self.learning_rate = 0.001\n",
    "        self.W = {}\n",
    "        self.b = {}\n",
    "        self.Z = {}\n",
    "        self.A = {}\n",
    "        \n",
    "    def addHL(self,hl):\n",
    "        self.hidden_Layers = hl\n",
    "        \n",
    "    \n",
    "    def init_Params(self,x):\n",
    "        \n",
    "        # creating the weights and biases with seed(1)\n",
    "        np.seed(144)\n",
    "        for i in range(1,len(self.hidden_Layers)+2):\n",
    "            self.W[str(i)] = np.random.randn()\n",
    "    \n",
    "    \n",
    "    def forePropagate(self,train_x,train_y):\n",
    "        pass"
   ]
  }
 ],
 "metadata": {
  "kernelspec": {
   "display_name": "Python 3",
   "language": "python",
   "name": "python3"
  },
  "language_info": {
   "codemirror_mode": {
    "name": "ipython",
    "version": 3
   },
   "file_extension": ".py",
   "mimetype": "text/x-python",
   "name": "python",
   "nbconvert_exporter": "python",
   "pygments_lexer": "ipython3",
   "version": "3.8.2"
  }
 },
 "nbformat": 4,
 "nbformat_minor": 4
}
